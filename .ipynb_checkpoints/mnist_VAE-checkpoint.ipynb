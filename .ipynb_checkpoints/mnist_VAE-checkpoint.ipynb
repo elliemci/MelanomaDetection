{
 "cells": [
  {
   "cell_type": "markdown",
   "metadata": {},
   "source": [
    "# Dimension Manipulation on MNIST with Autoencoders"
   ]
  },
  {
   "cell_type": "markdown",
   "metadata": {},
   "source": [
    "Autoencoders are an unsupervised learning technique which uses neural networks for the task of representation learning. It encodes, or compress, the inputs in a lower dimensional feature space (latent space), and then decode, or reconstruct, them back into original form starting from their latent space representations\n",
    "The general function of an autoencoder, is mapping an input x to an output - reconstruction r through an internal representation h. \n",
    "By penalizing the network according to the reconstruction error, the model can learn the most important attributes of the input data and how to best reconstruct the original input from an \"encoded\" state. This encoding will learn and describe latent attributes of the input data, which is a nonlinear generalization of PCA: whereas PCA attempts to discover a lower dimensional hyperplane which describes the original data, autoencoders are capable of learning nonlinear manifolds.\n",
    "\n",
    "The autoencoder has two components: \n",
    "<br /><br />\n",
    "* **Encoder:** It has a mapping from x to h, f(x)=h\n",
    "<br />\n",
    "* **Decoder:** It has a mapping from h to r, g(h)=r\n",
    "\n",
    "We pass input data through an encoder that makes a compressed representation of the input.\n",
    "The encoder network is outputting a single value for each encoding dimension.\n",
    "Each dimension of the encoding vector represents some learned attribute about the data. The decoder network then subsequently takes these values and attempts to recreate the original input."
   ]
  },
  {
   "cell_type": "code",
   "execution_count": 206,
   "metadata": {},
   "outputs": [
    {
     "name": "stdout",
     "output_type": "stream",
     "text": [
      "Training on device cpu\n"
     ]
    }
   ],
   "source": [
    "import torch\n",
    "import numpy as np\n",
    "import torch.nn as nn\n",
    "import matplotlib.pyplot as plt\n",
    "import torch.nn.functional as F\n",
    "import torchvision.transforms as transforms\n",
    "\n",
    "from torch import optim\n",
    "from torchvision import datasets, utils\n",
    "\n",
    "\n",
    "device = torch.device(\"cuda\" if torch.cuda.is_available() else \"cpu\")\n",
    "print(\"Training on device\", device)"
   ]
  },
  {
   "cell_type": "code",
   "execution_count": 4,
   "metadata": {},
   "outputs": [],
   "source": [
    "# convert PIL image into torch.FloatTensor\n",
    "transform = transforms.ToTensor()"
   ]
  },
  {
   "cell_type": "code",
   "execution_count": 5,
   "metadata": {
    "collapsed": true
   },
   "outputs": [
    {
     "name": "stdout",
     "output_type": "stream",
     "text": [
      "Downloading http://yann.lecun.com/exdb/mnist/train-images-idx3-ubyte.gz to MNIST/processed/training.pt/MNIST/raw/train-images-idx3-ubyte.gz\n"
     ]
    },
    {
     "name": "stderr",
     "output_type": "stream",
     "text": [
      "100.1%"
     ]
    },
    {
     "name": "stdout",
     "output_type": "stream",
     "text": [
      "Extracting MNIST/processed/training.pt/MNIST/raw/train-images-idx3-ubyte.gz to MNIST/processed/training.pt/MNIST/raw\n"
     ]
    },
    {
     "name": "stderr",
     "output_type": "stream",
     "text": [
      "28.4%"
     ]
    },
    {
     "name": "stdout",
     "output_type": "stream",
     "text": [
      "Downloading http://yann.lecun.com/exdb/mnist/train-labels-idx1-ubyte.gz to MNIST/processed/training.pt/MNIST/raw/train-labels-idx1-ubyte.gz\n"
     ]
    },
    {
     "name": "stderr",
     "output_type": "stream",
     "text": [
      "113.5%"
     ]
    },
    {
     "name": "stdout",
     "output_type": "stream",
     "text": [
      "Extracting MNIST/processed/training.pt/MNIST/raw/train-labels-idx1-ubyte.gz to MNIST/processed/training.pt/MNIST/raw\n",
      "Downloading http://yann.lecun.com/exdb/mnist/t10k-images-idx3-ubyte.gz to MNIST/processed/training.pt/MNIST/raw/t10k-images-idx3-ubyte.gz\n"
     ]
    },
    {
     "name": "stderr",
     "output_type": "stream",
     "text": [
      "100.4%"
     ]
    },
    {
     "name": "stdout",
     "output_type": "stream",
     "text": [
      "Extracting MNIST/processed/training.pt/MNIST/raw/t10k-images-idx3-ubyte.gz to MNIST/processed/training.pt/MNIST/raw\n",
      "Downloading http://yann.lecun.com/exdb/mnist/t10k-labels-idx1-ubyte.gz to MNIST/processed/training.pt/MNIST/raw/t10k-labels-idx1-ubyte.gz\n"
     ]
    },
    {
     "name": "stderr",
     "output_type": "stream",
     "text": [
      "180.4%/Users/elliemcintosh/miniconda3/envs/py38/lib/python3.8/site-packages/torchvision/datasets/mnist.py:469: UserWarning: The given NumPy array is not writeable, and PyTorch does not support non-writeable tensors. This means you can write to the underlying (supposedly non-writeable) NumPy array using the tensor. You may want to copy the array to protect its data or make it writeable before converting it to a tensor. This type of warning will be suppressed for the rest of this program. (Triggered internally at  ../torch/csrc/utils/tensor_numpy.cpp:141.)\n",
      "  return torch.from_numpy(parsed.astype(m[2], copy=False)).view(*s)\n"
     ]
    },
    {
     "name": "stdout",
     "output_type": "stream",
     "text": [
      "Extracting MNIST/processed/training.pt/MNIST/raw/t10k-labels-idx1-ubyte.gz to MNIST/processed/training.pt/MNIST/raw\n",
      "Processing...\n",
      "Done!\n"
     ]
    }
   ],
   "source": [
    "# load training and test datasets, dataset as a subclass of torch.utils.data.Dataset\n",
    "data_path = 'MNIST/processed/training.pt'\n",
    "\n",
    "train_data = datasets.MNIST(root = data_path, download=True, train=True, transform=transform )\n",
    "test_data   = datasets.MNIST(root = data_path, download=True, train=False, transform=transform )"
   ]
  },
  {
   "cell_type": "code",
   "execution_count": 62,
   "metadata": {},
   "outputs": [],
   "source": [
    "# create training and test data loaaders\n",
    "\n",
    "# number of subprocesses to use for data loading\n",
    "num_workers = 0\n",
    "# number of samples per batch to load\n",
    "batch_size = 20\n",
    "\n",
    "train_loader = torch.utils.data.DataLoader(dataset = train_data, batch_size=batch_size, num_workers=num_workers, shuffle=True)\n",
    "test_loader   = torch.utils.data.DataLoader(dataset = test_data, batch_size=batch_size, num_workers=num_workers, shuffle=True)"
   ]
  },
  {
   "cell_type": "code",
   "execution_count": 63,
   "metadata": {},
   "outputs": [
    {
     "name": "stdout",
     "output_type": "stream",
     "text": [
      "image dimension: (28, 28)\n",
      "min pixel value:  0.0\n",
      "max pixel value:  1.0\n"
     ]
    }
   ],
   "source": [
    "# visualize the data to check if data has loaded correctly\n",
    "\n",
    "# obtain one batch of training images\n",
    "dataiter = iter(train_loader)\n",
    "images, labels = dataiter.next()\n",
    "images = images.numpy()\n",
    "\n",
    "# get one image from the batch\n",
    "img = np.squeeze(images[0])\n",
    "print(\"image dimension:\", img.shape)\n",
    "\n",
    "# check if images are alredy normalized\n",
    "print(\"min pixel value: \", img.min())\n",
    "print(\"max pixel value: \", img.max())"
   ]
  },
  {
   "cell_type": "code",
   "execution_count": 64,
   "metadata": {},
   "outputs": [
    {
     "data": {
      "text/plain": [
       "<matplotlib.image.AxesImage at 0x7fba97b97670>"
      ]
     },
     "execution_count": 64,
     "metadata": {},
     "output_type": "execute_result"
    },
    {
     "data": {
      "image/png": "[encoded data removed]",
      "text/plain": [
       "<Figure size 360x360 with 1 Axes>"
      ]
     },
     "metadata": {
      "needs_background": "light"
     },
     "output_type": "display_data"
    }
   ],
   "source": [
    "#display an image\n",
    "fig = plt.figure(figsize = (5,5)) \n",
    "# add_subplot(nrows, ncols, index), the subplot will take the \n",
    "# index position on a grid with nrows rows and ncols columns\n",
    "ax = fig.add_subplot(111)\n",
    "ax.imshow(img, cmap='gray')"
   ]
  },
  {
   "cell_type": "markdown",
   "metadata": {},
   "source": [
    "## Linear Autoencoders"
   ]
  },
  {
   "cell_type": "markdown",
   "metadata": {},
   "source": [
    "Linear autoencoders consist of one linear layer encoder and decoder connected by a compressed representation unit.\n",
    "\n",
    "Since the images are normalized between 0 and 1, we need to use a sigmoid activation on the output layer to get values that match this input value range.\n",
    "\n",
    "The model architecture is trying to achive targets that are the same as the inputs:\n",
    "\n",
    "The encoder has one linear layer with input dim of 28x28=784 and output = encoding_dim, and the decoder has one linear layer with inputdim of encoding_dim, and output back to the original image size of 28x28."
   ]
  },
  {
   "cell_type": "code",
   "execution_count": 46,
   "metadata": {},
   "outputs": [],
   "source": [
    "# define the NN architecture\n",
    "class Autoencoder(nn.Module):\n",
    "    def __init__(self, encoding_dim):\n",
    "        # a subclss of nn.Module inheriring all methodsof the superclass \n",
    "        # nn.Module including __call__ method which calls the forward function\n",
    "        # from the subclass\n",
    "        super(Autoencoder, self).__init__()\n",
    "        ## encoder ##\n",
    "        self.fc1 = nn.Linear(28 * 28, encoding_dim)\n",
    "        \n",
    "        ## decoder ##\n",
    "        self.fc2 = nn.Linear(encoding_dim, 28*28)\n",
    "        \n",
    "\n",
    "    def forward(self, x):\n",
    "        # add layer, with relu activation function\n",
    "        x = F.relu(self.fc1(x))\n",
    "        # output layer (sigmoid for scaling from 0 to 1)\n",
    "        x = torch.sigmoid(self.fc2(x))\n",
    "        return x"
   ]
  },
  {
   "cell_type": "code",
   "execution_count": 65,
   "metadata": {},
   "outputs": [
    {
     "name": "stdout",
     "output_type": "stream",
     "text": [
      "Autoencoder(\n",
      "  (fc1): Linear(in_features=784, out_features=32, bias=True)\n",
      "  (fc2): Linear(in_features=32, out_features=784, bias=True)\n",
      ")\n",
      "total number of model parameters: 50992\n",
      "model parameters per layer: [25088, 32, 25088, 784]\n"
     ]
    }
   ],
   "source": [
    "# initialize the NN\n",
    "encoding_dim = 32\n",
    "model = Autoencoder(encoding_dim)\n",
    "print(model)\n",
    "\n",
    "# print number of model parameters\n",
    "numel_list = [p.numel() for p in model.parameters()]\n",
    "print(\"total number of model parameters:\", sum(numel_list))\n",
    "print(\"model parameters per layer:\", numel_list)\n",
    "\n",
    "# NB: If you need to move a model to GPU via .cuda(), \n",
    "# do so before constructing optimizers for it:\n",
    "# model.to(device)"
   ]
  },
  {
   "cell_type": "code",
   "execution_count": 66,
   "metadata": {},
   "outputs": [],
   "source": [
    "# define loss function and aptimizer\n",
    "loss_fn = nn.MSELoss()\n",
    "optimizer = torch.optim.Adam(model.parameters(), lr = 0.001)"
   ]
  },
  {
   "cell_type": "code",
   "execution_count": 80,
   "metadata": {},
   "outputs": [],
   "source": [
    "# flatten the images, pass them into the autoencoder, and record the training loss \n",
    "def training_loop(num_epochs, optimizer, model, loss_fn, train_loader, nn_type = \"cnn\"):\n",
    "    \"\"\" Train the model running through the entire dataset multiple times with a for loop\"\"\"\n",
    "    \n",
    "    # Set model to training mode\n",
    "    model.train() \n",
    "    \n",
    "    train_loss =[]\n",
    "    \n",
    "    for epoch in range(num_epochs):\n",
    "        print('Epoch {}/{}'.format(epoch, num_epochs - 1))\n",
    "        print('-'*10)\n",
    "        \n",
    "        running_loss = 0.0\n",
    "        \n",
    "        for data in train_loader:\n",
    "            \n",
    "            data = data.to(device)\n",
    "            \n",
    "            images, labels = data\n",
    "            #images, labels = images.to(device), labels.to(device)\n",
    "            \n",
    "            if nn_type == \"fc\":\n",
    "                # Flatten MNIST images into a 784 long vector\n",
    "                images = images.view(images.size(0), -1)\n",
    "            \n",
    "            # zero the parameter gradients to clear the adjustments of the weights\n",
    "            optimizer.zero_grad()\n",
    "            \n",
    "            #forward pass to get output/logits\n",
    "            outputs = model(images) \n",
    "            \n",
    "            loss = loss_fn(outputs, images)\n",
    "            \n",
    "            # compute the gradient of the loss w.r.t. model parameters \n",
    "            loss.backward()\n",
    "            \n",
    "            # updating parameters when adjusting the weights\n",
    "            optimizer.step()\n",
    "            \n",
    "            # add the loss to the training set's running loss\n",
    "            running_loss += loss.item()*images.size(0)   \n",
    "        \n",
    "        #average trainin stats different than running_loss/len(train_loader.dataset)\n",
    "        epoch_loss = running_loss/len(train_loader)\n",
    "        \n",
    "        train_loss.append(epoch_loss)\n",
    "        \n",
    "        print(\"Trianing Loss: {:.4f}\".format(epoch_loss))\n",
    "        print()\n",
    "    \n",
    "    \n",
    "    plt.plot(train_loss, label='Training Loss')\n",
    "    plt.legend(frameon=False)\n",
    "    plt.title('Model Training Loss')\n",
    "    plt.show()\n",
    "    "
   ]
  },
  {
   "cell_type": "code",
   "execution_count": 69,
   "metadata": {
    "collapsed": true
   },
   "outputs": [
    {
     "name": "stdout",
     "output_type": "stream",
     "text": [
      "Epoch 0/19\n",
      "----------\n",
      "Trianing Loss: 0.6149\n",
      "\n",
      "Epoch 1/19\n",
      "----------\n",
      "Trianing Loss: 0.2927\n",
      "\n",
      "Epoch 2/19\n",
      "----------\n",
      "Trianing Loss: 0.2668\n",
      "\n",
      "Epoch 3/19\n",
      "----------\n",
      "Trianing Loss: 0.2602\n",
      "\n",
      "Epoch 4/19\n",
      "----------\n",
      "Trianing Loss: 0.2568\n",
      "\n",
      "Epoch 5/19\n",
      "----------\n",
      "Trianing Loss: 0.2544\n",
      "\n",
      "Epoch 6/19\n",
      "----------\n",
      "Trianing Loss: 0.2527\n",
      "\n",
      "Epoch 7/19\n",
      "----------\n",
      "Trianing Loss: 0.2515\n",
      "\n",
      "Epoch 8/19\n",
      "----------\n",
      "Trianing Loss: 0.2506\n",
      "\n",
      "Epoch 9/19\n",
      "----------\n",
      "Trianing Loss: 0.2499\n",
      "\n",
      "Epoch 10/19\n",
      "----------\n",
      "Trianing Loss: 0.2493\n",
      "\n",
      "Epoch 11/19\n",
      "----------\n",
      "Trianing Loss: 0.2489\n",
      "\n",
      "Epoch 12/19\n",
      "----------\n",
      "Trianing Loss: 0.2484\n",
      "\n",
      "Epoch 13/19\n",
      "----------\n",
      "Trianing Loss: 0.2480\n",
      "\n",
      "Epoch 14/19\n",
      "----------\n",
      "Trianing Loss: 0.2475\n",
      "\n",
      "Epoch 15/19\n",
      "----------\n",
      "Trianing Loss: 0.2473\n",
      "\n",
      "Epoch 16/19\n",
      "----------\n",
      "Trianing Loss: 0.2469\n",
      "\n",
      "Epoch 17/19\n",
      "----------\n",
      "Trianing Loss: 0.2467\n",
      "\n",
      "Epoch 18/19\n",
      "----------\n",
      "Trianing Loss: 0.2464\n",
      "\n",
      "Epoch 19/19\n",
      "----------\n",
      "Trianing Loss: 0.2463\n",
      "\n"
     ]
    },
    {
     "data": {
      "image/png": "[encoded data removed]",
      "text/plain": [
       "<Figure size 432x288 with 1 Axes>"
      ]
     },
     "metadata": {
      "needs_background": "light"
     },
     "output_type": "display_data"
    }
   ],
   "source": [
    "num_epochs = 20\n",
    "\n",
    "training_loop(num_epochs = num_epochs, \n",
    "              optimizer = optimizer, \n",
    "              model = model, \n",
    "              loss_fn = loss_fn, \n",
    "              train_loader = train_loader,\n",
    "              nn_type = \"fc\")"
   ]
  },
  {
   "cell_type": "markdown",
   "metadata": {},
   "source": [
    "## Checking the results\n",
    "\n",
    "Obtain a batch of test images, for the images in the batch get thir model outputs and display the first num_imgs imput images (top) and their reconstructions (bottom)"
   ]
  },
  {
   "cell_type": "code",
   "execution_count": 70,
   "metadata": {},
   "outputs": [],
   "source": [
    "# obtain one batch of test images\n",
    "dataiter = iter(test_loader)\n",
    "images, labels = dataiter.next()\n",
    "\n",
    "images_flatten = images.view(images.size(0), -1)\n",
    "# get sample outputs\n",
    "output = model(images_flatten)\n",
    "# prep images for display\n",
    "images = images.numpy()\n",
    "\n",
    "# output is resized into a batch of images\n",
    "output = output.view(batch_size, 1, 28, 28)\n",
    "# use detach when it's an output that requires_grad\n",
    "output = output.detach().numpy()"
   ]
  },
  {
   "cell_type": "code",
   "execution_count": null,
   "metadata": {},
   "outputs": [],
   "source": [
    "# Plot the first num_imgs input images and their reconstructed images\n",
    "num_imgs = 10\n",
    "\n",
    "fig, axes = plt.subplots(nrows=2, ncols=num_imgs, sharex=True, sharey=True, figsize=(25,4))\n",
    "\n",
    "# input images on top row, reconstructions on bottom\n",
    "for images, row in zip([images, output], axes):\n",
    "    for img, ax in zip(images, row):\n",
    "        ax.imshow(np.squeeze(img), cmap='gray')\n",
    "        ax.get_xaxis().set_visible(False)\n",
    "        ax.get_yaxis().set_visible(False)"
   ]
  },
  {
   "cell_type": "markdown",
   "metadata": {},
   "source": [
    "## Convolutional Autoencoders"
   ]
  },
  {
   "cell_type": "code",
   "execution_count": 335,
   "metadata": {},
   "outputs": [],
   "source": [
    "class ConvAutoencoder(nn.Module):\n",
    "    def __init__(self):\n",
    "        super(ConvAutoencoder, self).__init__()\n",
    "        \n",
    "        ## Encoder ##\n",
    "        self.conv1 = nn.Conv2d(1, 8, kernel_size=3, stride=2, padding=1)\n",
    "        self.conv2 = nn.Conv2d(8, 4, kernel_size=3, stride=2, padding=1)\n",
    "        \n",
    "        ## Decoder ##\n",
    "        self.t_conv1 = nn.ConvTranspose2d(4, 8, 2, stride=2)\n",
    "        self.t_conv2 = nn.ConvTranspose2d(8, 1, 2, stride=2)\n",
    "        \n",
    "    def forward(self, x):\n",
    "        x = F.relu(self.conv1(x))\n",
    "        x = F.relu(self.conv2(x))\n",
    "        x = F.relu(self.t_conv1(x)) \n",
    "        x = F.relu(self.t_conv2(x))\n",
    "        \n",
    "        return x \n",
    "    "
   ]
  },
  {
   "cell_type": "code",
   "execution_count": 336,
   "metadata": {},
   "outputs": [
    {
     "name": "stdout",
     "output_type": "stream",
     "text": [
      "ConvAutoencoder(\n",
      "  (conv1): Conv2d(1, 8, kernel_size=(3, 3), stride=(2, 2), padding=(1, 1))\n",
      "  (conv2): Conv2d(8, 4, kernel_size=(3, 3), stride=(2, 2), padding=(1, 1))\n",
      "  (t_conv1): ConvTranspose2d(4, 8, kernel_size=(2, 2), stride=(2, 2))\n",
      "  (t_conv2): ConvTranspose2d(8, 1, kernel_size=(2, 2), stride=(2, 2))\n",
      ")\n",
      "total number of model parameters: 541\n",
      "model parameters per layer: [72, 8, 288, 4, 128, 8, 32, 1]\n"
     ]
    },
    {
     "data": {
      "text/plain": [
       "ConvAutoencoder(\n",
       "  (conv1): Conv2d(1, 8, kernel_size=(3, 3), stride=(2, 2), padding=(1, 1))\n",
       "  (conv2): Conv2d(8, 4, kernel_size=(3, 3), stride=(2, 2), padding=(1, 1))\n",
       "  (t_conv1): ConvTranspose2d(4, 8, kernel_size=(2, 2), stride=(2, 2))\n",
       "  (t_conv2): ConvTranspose2d(8, 1, kernel_size=(2, 2), stride=(2, 2))\n",
       ")"
      ]
     },
     "execution_count": 336,
     "metadata": {},
     "output_type": "execute_result"
    }
   ],
   "source": [
    "model = ConvAutoencoder()\n",
    "\n",
    "print(model)\n",
    "\n",
    "# print number of model parameters\n",
    "numel_list = [p.numel() for p in model.parameters()]\n",
    "print(\"total number of model parameters:\", sum(numel_list))\n",
    "print(\"model parameters per layer:\", numel_list)\n",
    "\n",
    "model.to(device)"
   ]
  },
  {
   "cell_type": "code",
   "execution_count": 337,
   "metadata": {},
   "outputs": [],
   "source": [
    "# define loss function as the measure of the MSE between the output and the input also known as the\n",
    "# reconstruction loss, which penalizes the network for creating outputs different from the input\n",
    "loss_fn = nn.MSELoss()\n",
    "optimizer = torch.optim.Adam(model.parameters(), lr=0.001)"
   ]
  },
  {
   "cell_type": "code",
   "execution_count": 95,
   "metadata": {
    "collapsed": true
   },
   "outputs": [
    {
     "name": "stdout",
     "output_type": "stream",
     "text": [
      "Epoch 0/19\n",
      "----------\n",
      "Trianing Loss: 0.3012\n",
      "\n",
      "Epoch 1/19\n",
      "----------\n",
      "Trianing Loss: 0.1438\n",
      "\n",
      "Epoch 2/19\n",
      "----------\n",
      "Trianing Loss: 0.1334\n",
      "\n",
      "Epoch 3/19\n",
      "----------\n",
      "Trianing Loss: 0.1295\n",
      "\n",
      "Epoch 4/19\n",
      "----------\n",
      "Trianing Loss: 0.1278\n",
      "\n",
      "Epoch 5/19\n",
      "----------\n",
      "Trianing Loss: 0.1251\n",
      "\n",
      "Epoch 6/19\n",
      "----------\n",
      "Trianing Loss: 0.1221\n",
      "\n",
      "Epoch 7/19\n",
      "----------\n",
      "Trianing Loss: 0.1205\n",
      "\n",
      "Epoch 8/19\n",
      "----------\n",
      "Trianing Loss: 0.1189\n",
      "\n",
      "Epoch 9/19\n",
      "----------\n",
      "Trianing Loss: 0.1183\n",
      "\n",
      "Epoch 10/19\n",
      "----------\n",
      "Trianing Loss: 0.1181\n",
      "\n",
      "Epoch 11/19\n",
      "----------\n",
      "Trianing Loss: 0.1179\n",
      "\n",
      "Epoch 12/19\n",
      "----------\n",
      "Trianing Loss: 0.1178\n",
      "\n",
      "Epoch 13/19\n",
      "----------\n",
      "Trianing Loss: 0.1177\n",
      "\n",
      "Epoch 14/19\n",
      "----------\n",
      "Trianing Loss: 0.1176\n",
      "\n",
      "Epoch 15/19\n",
      "----------\n",
      "Trianing Loss: 0.1174\n",
      "\n",
      "Epoch 16/19\n",
      "----------\n",
      "Trianing Loss: 0.1162\n",
      "\n",
      "Epoch 17/19\n",
      "----------\n",
      "Trianing Loss: 0.1158\n",
      "\n",
      "Epoch 18/19\n",
      "----------\n",
      "Trianing Loss: 0.1157\n",
      "\n",
      "Epoch 19/19\n",
      "----------\n",
      "Trianing Loss: 0.1156\n",
      "\n"
     ]
    },
    {
     "data": {
      "image/png": "[encoded data removed]",
      "text/plain": [
       "<Figure size 432x288 with 1 Axes>"
      ]
     },
     "metadata": {
      "needs_background": "light"
     },
     "output_type": "display_data"
    }
   ],
   "source": [
    "num_epochs = 20\n",
    "\n",
    "training_loop(num_epochs = num_epochs, \n",
    "              optimizer = optimizer, \n",
    "              model = model, \n",
    "              loss_fn = loss_fn, \n",
    "              train_loader = train_loader,\n",
    "              nn_type = \"cnn\")"
   ]
  },
  {
   "cell_type": "code",
   "execution_count": 96,
   "metadata": {},
   "outputs": [
    {
     "data": {
      "image/png": "[encoded data removed]",
      "text/plain": [
       "<Figure size 1800x288 with 20 Axes>"
      ]
     },
     "metadata": {
      "needs_background": "light"
     },
     "output_type": "display_data"
    }
   ],
   "source": [
    "#Check results:\n",
    "\n",
    "# obtain one batch of test images\n",
    "dataiter = iter(test_loader)\n",
    "images, labels = dataiter.next()\n",
    "\n",
    "# get sample outputs\n",
    "output = model(images)\n",
    "# prep images for display\n",
    "images = images.numpy()\n",
    "\n",
    "# output is resized into a batch of images\n",
    "output = output.view(batch_size, 1, 28, 28)\n",
    "# use detach when it's an output that requires_grad\n",
    "output = output.detach().numpy()\n",
    "\n",
    "# Plot the first num_imgs input images and their reconstructed images\n",
    "num_imgs = 10\n",
    "\n",
    "fig, axes = plt.subplots(nrows=2, ncols=num_imgs, \n",
    "                         sharex=True, sharey=True, \n",
    "                         figsize=(25,4))\n",
    "\n",
    "# input images on top row, reconstructions on bottom\n",
    "for images, row in zip([images, output], axes):\n",
    "    for img, ax in zip(images, row):\n",
    "        ax.imshow(np.squeeze(img), cmap='gray')\n",
    "        ax.get_xaxis().set_visible(False)\n",
    "        ax.get_yaxis().set_visible(False)"
   ]
  },
  {
   "cell_type": "markdown",
   "metadata": {},
   "source": [
    "## Variational Autoencoder\n",
    "\n",
    "A VAE provides a probabilistic manner for describing an observation in latent space. Rather than having a single value to describe each latent state attribute, encoder represent each latent attribute for a given input as a probability distribution. The encoder generate two latent space dimensional vectors representing the means and stds, which are sampled and sent through the decoder. By constructing the encoder model to output a statistical distribution, i.e.range of possible values which are randomly sampled to feed into the decoder model, we enforcing a continuous, smooth latent space representation. For any sampling of the latent distributions, we're expecting our decoder model to be able to accurately reconstruct the input.\n",
    "\n",
    "The main benefit of a variational autoencoder is that we're capable of learning smooth latent state representations of the input data."
   ]
  },
  {
   "cell_type": "code",
   "execution_count": 338,
   "metadata": {},
   "outputs": [],
   "source": [
    "class VAE(nn.Module):\n",
    "    \n",
    "    def __init__(self):\n",
    "        super(VAE, self).__init__()\n",
    "        \n",
    "        self.fc1 = nn.Linear(original_dim, intermediate_dim)\n",
    "        self.fc21= nn.Linear(intermediate_dim, latent_dim)\n",
    "        self.fc22= nn.Linear(intermediate_dim, latent_dim)\n",
    "        self.fc3 = nn.Linear(latent_dim, intermediate_dim)\n",
    "        self.fc4 = nn.Linear(intermediate_dim, original_dim)\n",
    "        \n",
    "    def encode(self, x):\n",
    "        h = F.relu(self.fc1(x))\n",
    "        return self.fc21(h), self.fc22(h)\n",
    "    \n",
    "    def reparameterize(self, mu, logvar):\n",
    "        \n",
    "        \"\"\" For each training sample in a batch, takes the current\n",
    "        learned mean and std for each of the hiden_dims and draws a \n",
    "        random samples which are decoded to output what it looks \n",
    "        like the input, thus the hiden_dims-dimensional normal \n",
    "        distributions of the mean and std will be learned.\n",
    "        \n",
    "        The input parameters are the:\n",
    "        \n",
    "        [batch_size, num_latdims] mean matrix mu and\n",
    "        [batch_size, num_latdims] variance matrix logvar\n",
    "        \n",
    "        It samples from a normal distribution with sdt and mu\n",
    "        by multipling (0, 1) normal sample with std and mu.\n",
    "        Thus we get batch_size sets of random latent_dim vectors\n",
    "        sampled from normal distribution with learned std and mu\n",
    "        for the current input.\n",
    "        \n",
    "        \"\"\" \n",
    "        \n",
    "        std = torch.exp(0.5*logvar)\n",
    "        eps = torch.rand_like(std)\n",
    "        \n",
    "        return mu + eps*std\n",
    "    \n",
    "    def decode(self, z):\n",
    "        \n",
    "        r = F.relu(self.fc3(z))\n",
    "        return torch.sigmoid(self.fc4(r))\n",
    "    \n",
    "    def forward(self, x):\n",
    "        \n",
    "        mu, logvar = self.encode(x.view(-1, original_dim))\n",
    "        z = self.reparameterize(mu, logvar)\n",
    "        return self.decode(z), mu, logvar\n",
    "            "
   ]
  },
  {
   "cell_type": "code",
   "execution_count": 339,
   "metadata": {},
   "outputs": [],
   "source": [
    "model = VAE().to(device)"
   ]
  },
  {
   "cell_type": "code",
   "execution_count": 340,
   "metadata": {},
   "outputs": [],
   "source": [
    "seed = 321\n",
    "torch.manual_seed(seed)\n",
    "\n",
    "batch_size = 128\n",
    "original_dim = 28*28\n",
    "intermediate_dim = 400\n",
    "latent_dim = 20\n",
    "num_epochs = 20\n"
   ]
  },
  {
   "cell_type": "code",
   "execution_count": 341,
   "metadata": {},
   "outputs": [],
   "source": [
    "optimizer = optim.Adam(model.parameters(), lr=0.001)"
   ]
  },
  {
   "cell_type": "code",
   "execution_count": 342,
   "metadata": {},
   "outputs": [],
   "source": [
    "def loss_fn(recon_x, x, mu, logvar):\n",
    "    \n",
    "    #BCE loss measures the binary cross entropy between the reconstructed and inputimage\n",
    "    BCE = F.binary_cross_entropy(recon_x, x.view(-1, original_dim), reduction='sum')\n",
    "    \n",
    "    # Kullback-Leibler divergence measures how much the learned distribution deviates \n",
    "    # from the unit Gaussian: 0.5 * sum(1 + log(sigma^2) - mu^2 - sigma^2)\n",
    "    KLD = -0.5 * torch.sum(1 + logvar - mu.pow(2) - logvar.exp())\n",
    "    \n",
    "    return BCE + KLD"
   ]
  },
  {
   "cell_type": "code",
   "execution_count": 343,
   "metadata": {},
   "outputs": [],
   "source": [
    "def train_vae(num_epochs):\n",
    "    # Set model to training mode\n",
    "    model.train() \n",
    "    \n",
    "    train_loss =[]\n",
    "    \n",
    "    for epoch in range(num_epochs):\n",
    "        print('Epoch {}/{}'.format(epoch, num_epochs - 1))\n",
    "        print('-'*10)\n",
    "        \n",
    "        running_loss = 0.0\n",
    "        \n",
    "        for batch_idx, (data, labels) in enumerate(train_loader):\n",
    "            \n",
    "            data.to(device)                       \n",
    "            # zero the parameter gradients to clear the adjustments of the weights\n",
    "            \n",
    "            optimizer.zero_grad()\n",
    "            \n",
    "            # data is a batch_size num of samples [batch_size, 1, 28, 28]\n",
    "            recon_batch, mu, logvar = model(data)\n",
    "            \n",
    "            loss = loss_fn(recon_batch, data, mu, logvar)\n",
    "\n",
    "            # compute the gradient of the loss w.r.t. model parameters \n",
    "            loss.backward()\n",
    "            \n",
    "            # updating parameters when adjusting the weights\n",
    "            optimizer.step()\n",
    "            \n",
    "            # add the loss to the training set's running loss\n",
    "            running_loss += loss.item()   \n",
    "        \n",
    "        # average training loss\n",
    "        epoch_loss = running_loss/len(train_loader.dataset)\n",
    "        \n",
    "        train_loss.append(epoch_loss)\n",
    "        \n",
    "        print(\"Trianing Loss: {:.4f}\".format(epoch_loss))\n",
    "        print()\n",
    "    \n",
    "    \n",
    "    plt.plot(train_loss, label='Training Loss')\n",
    "    plt.legend(frameon=False)\n",
    "    plt.title('Model Training Loss')\n",
    "    plt.show()\n",
    "    "
   ]
  },
  {
   "cell_type": "code",
   "execution_count": 344,
   "metadata": {},
   "outputs": [],
   "source": [
    "def test_vae(model, test_loader):\n",
    "\n",
    "    model.eval()\n",
    "    test_loss = 0\n",
    "    \n",
    "    with torch.no_grad():\n",
    "        \n",
    "        for batch_idx, (data, _) in enumerate(test_loader):\n",
    "            data = data.to(device)\n",
    "            \n",
    "            recon_batch, mu, logvar = model(data)\n",
    "            \n",
    "            loss = loss_fn(recon_batch, data, mu, logvar)\n",
    "            \n",
    "            test_loss += loss.item()\n",
    "            \n",
    "    test_loss /= len(test_loader.dataset)\n",
    "    print('Test set loss: {:.4f}'.format(test_loss))\n",
    "                     "
   ]
  },
  {
   "cell_type": "code",
   "execution_count": 345,
   "metadata": {
    "collapsed": true
   },
   "outputs": [
    {
     "name": "stdout",
     "output_type": "stream",
     "text": [
      "Epoch 0/19\n",
      "----------\n",
      "Trianing Loss: 110.5857\n",
      "\n",
      "Epoch 1/19\n",
      "----------\n",
      "Trianing Loss: 92.7393\n",
      "\n",
      "Epoch 2/19\n",
      "----------\n",
      "Trianing Loss: 90.0831\n",
      "\n",
      "Epoch 3/19\n",
      "----------\n",
      "Trianing Loss: 88.8410\n",
      "\n",
      "Epoch 4/19\n",
      "----------\n",
      "Trianing Loss: 88.0899\n",
      "\n",
      "Epoch 5/19\n",
      "----------\n",
      "Trianing Loss: 87.5516\n",
      "\n",
      "Epoch 6/19\n",
      "----------\n",
      "Trianing Loss: 87.1338\n",
      "\n",
      "Epoch 7/19\n",
      "----------\n",
      "Trianing Loss: 86.7896\n",
      "\n",
      "Epoch 8/19\n",
      "----------\n",
      "Trianing Loss: 86.5131\n",
      "\n",
      "Epoch 9/19\n",
      "----------\n",
      "Trianing Loss: 86.2707\n",
      "\n",
      "Epoch 10/19\n",
      "----------\n",
      "Trianing Loss: 86.0252\n",
      "\n",
      "Epoch 11/19\n",
      "----------\n",
      "Trianing Loss: 85.8091\n",
      "\n",
      "Epoch 12/19\n",
      "----------\n",
      "Trianing Loss: 85.6452\n",
      "\n",
      "Epoch 13/19\n",
      "----------\n",
      "Trianing Loss: 85.4826\n",
      "\n",
      "Epoch 14/19\n",
      "----------\n",
      "Trianing Loss: 85.3337\n",
      "\n",
      "Epoch 15/19\n",
      "----------\n",
      "Trianing Loss: 85.2135\n",
      "\n",
      "Epoch 16/19\n",
      "----------\n",
      "Trianing Loss: 85.0712\n",
      "\n",
      "Epoch 17/19\n",
      "----------\n",
      "Trianing Loss: 84.9536\n",
      "\n",
      "Epoch 18/19\n",
      "----------\n",
      "Trianing Loss: 84.8789\n",
      "\n",
      "Epoch 19/19\n",
      "----------\n",
      "Trianing Loss: 84.7849\n",
      "\n"
     ]
    },
    {
     "data": {
      "image/png": "[encoded data removed]",
      "text/plain": [
       "<Figure size 432x288 with 1 Axes>"
      ]
     },
     "metadata": {
      "needs_background": "light"
     },
     "output_type": "display_data"
    }
   ],
   "source": [
    "train_vae(num_epochs)"
   ]
  },
  {
   "cell_type": "code",
   "execution_count": 346,
   "metadata": {
    "scrolled": true
   },
   "outputs": [
    {
     "name": "stdout",
     "output_type": "stream",
     "text": [
      "Test set loss: 84.6674\n"
     ]
    }
   ],
   "source": [
    "test_vae(model, test_loader)"
   ]
  },
  {
   "cell_type": "code",
   "execution_count": 349,
   "metadata": {},
   "outputs": [
    {
     "data": {
      "image/png": "[encoded data removed]",
      "text/plain": [
       "<Figure size 432x288 with 8 Axes>"
      ]
     },
     "metadata": {
      "needs_background": "light"
     },
     "output_type": "display_data"
    }
   ],
   "source": [
    "# generate num_samples images from latent sapce\n",
    "\n",
    "num_samples = 8\n",
    "\n",
    "with torch.no_grad():\n",
    "    # Returns a 8x20 tensor filled with random \n",
    "    # numbers from a normal distribution with mean 0 and variance 1\n",
    "    samples = torch.randn(num_samples, latent_dim).to(device)\n",
    "    \n",
    "    recon_samples = model.decode(samples).cpu()\n",
    "    \n",
    "    for i in range(1, num_samples+1):\n",
    "        img = recon_samples[i-1].reshape(np.sqrt(original_dim).astype(int), np.sqrt(original_dim).astype(int))\n",
    "        plt.subplot(2, 4, i)\n",
    "        plt.axis('off')\n",
    "        plt.imshow(img, cmap='gray')\n",
    "    \n",
    "               \n",
    "    #plt.imshow(recon_samples[1].reshape(28, 28), cmap='gray')"
   ]
  },
  {
   "cell_type": "code",
   "execution_count": null,
   "metadata": {},
   "outputs": [],
   "source": []
  }
 ],
 "metadata": {
  "kernelspec": {
   "display_name": "Python 3",
   "language": "python",
   "name": "python3"
  },
  "language_info": {
   "codemirror_mode": {
    "name": "ipython",
    "version": 3
   },
   "file_extension": ".py",
   "mimetype": "text/x-python",
   "name": "python",
   "nbconvert_exporter": "python",
   "pygments_lexer": "ipython3",
   "version": "3.8.2"
  }
 },
 "nbformat": 4,
 "nbformat_minor": 4
}
